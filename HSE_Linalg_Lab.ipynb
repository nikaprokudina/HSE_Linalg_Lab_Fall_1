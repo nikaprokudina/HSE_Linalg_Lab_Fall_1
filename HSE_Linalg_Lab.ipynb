{
 "cells": [
  {
   "cell_type": "markdown",
   "metadata": {
    "id": "EIuyp8N8r-C7",
    "tags": []
   },
   "source": [
    "# Линейная алгебра. Лабораторная работа 1, осень 2022\n"
   ]
  },
  {
   "cell_type": "markdown",
   "metadata": {
    "id": "zjM6eb8Pr-DD"
   },
   "source": [
    "В этой лабораторной работе вы познакомитесь со средой Jupyter Notebook и библиотеками numpy и scipy."
   ]
  },
  {
   "cell_type": "markdown",
   "metadata": {
    "id": "YaJV1GVyr-DE"
   },
   "source": [
    "## Часть 1. Библиотеки"
   ]
  },
  {
   "cell_type": "markdown",
   "metadata": {
    "id": "oM0ZiubOr-DF"
   },
   "source": [
    "В этой лабораторной работе вам понадобятся три библиотеки:\n",
    "\n",
    "- `numpy` – основная библиотека для работы с матрицами;\n",
    "- `scipy`, а точнее модуль `scipy.linalg`, содержащий множество функций линейной алгебры;\n",
    "- `matplotlib` – графическая библиотека\n",
    "\n",
    "Подключить их можно следующим образом:"
   ]
  },
  {
   "cell_type": "code",
   "execution_count": 1,
   "metadata": {
    "id": "5cm7iy1ir-DH"
   },
   "outputs": [],
   "source": [
    "# Запустите этот код\n",
    "import numpy as np\n",
    "\n",
    "import scipy.linalg as sla\n",
    "\n",
    "import matplotlib.pyplot as plt\n",
    "%matplotlib inline"
   ]
  },
  {
   "cell_type": "markdown",
   "metadata": {
    "id": "V8NVWAhvr-DL"
   },
   "source": [
    "Теперь вы можете позвать, скажем, функцию `scipy.linalg.det()` с помощью кода `sla.det()`, а функцию `numpy.exp()` – с помощью кода `np.exp()`."
   ]
  },
  {
   "cell_type": "markdown",
   "metadata": {
    "id": "Pa6Hi2DFr-DM"
   },
   "source": [
    "**Основные объекты и операции линейной алгебры в NumPy и SciPy:**"
   ]
  },
  {
   "cell_type": "markdown",
   "metadata": {
    "id": "L4QhiVOOr-DN"
   },
   "source": [
    "Основной объект, с которым вам придётся работать и в этой, и в следующих лабораторных, – это, безусловно, матрицы. В библиотеке `numpy` они представлены классом `numpy.ndarray`. Матрицу можно создать из двумерного (а на самом деле и не только двумерного) массива следующим образом:"
   ]
  },
  {
   "cell_type": "code",
   "execution_count": 3,
   "metadata": {
    "id": "TNI8AiJyr-DO"
   },
   "outputs": [
    {
     "name": "stdout",
     "output_type": "stream",
     "text": [
      "[[1 2 3]\n",
      " [4 5 6]]\n",
      "(2, 3)\n"
     ]
    }
   ],
   "source": [
    "# Запустите этот код\n",
    "A = np.array([[1, 2, 3], [4, 5, 6]])\n",
    "\n",
    "print(A)\n",
    "print(A.shape) # пара (число строк, число столбцов)"
   ]
  },
  {
   "cell_type": "markdown",
   "metadata": {
    "id": "tzD9hz20r-DQ"
   },
   "source": [
    "Обратите внимание, что матрица заполняется *по строкам*.\n",
    "\n",
    "Есть и много других конструкторов матриц. Например, единичная матрица размера $n\\times n$ создаётся с помощью функции `numpy.eye(n)`. Со всем многообразием конструкторов можно ознакомиться [на этой странице](https://docs.scipy.org/doc/numpy-1.10.1/reference/routines.array-creation.html)."
   ]
  },
  {
   "cell_type": "markdown",
   "metadata": {
    "id": "dXBis6otr-DR"
   },
   "source": [
    "Зачастую бывает нужно получить доступ к подматрицам данной матрицы, и numpy предоставляет множество удобных средств, как это сделать (вообще данная процедура называется slicing):\n",
    "- элемент с номером `(i,j)`: `A[i,j]`\n",
    "- i-я строка матрицы: `A[i,:]`\n",
    "- j-й столбец матрицы: `A[:,j]`\n",
    "\n",
    "**Внимание!** Оба варианта, и `A[i,:]`, и `A[:,j]` дают не строку или столбец, а одномерный вектор. Если вы хотите получить вектор-строку или вектор-столбец соответственно, используйте вот такой синтаксис: `A[i:i+1,:]` и `A[:,j:j+1]`\n",
    "- строки с нулевой по i-ю: `A[:i+1,:]`\n",
    "- столбцы с j-го по последний: `A[:,j:]`\n",
    "- строки с i-й по k-ю: `A[i:k,:]`\n",
    "\n",
    "В некоторых случаях нужно получить доступ к (прямоугольной) подматрице, элементы которой находятся на пересечении строк из списка `rows` и столбцов из списка `columns`. В этом случае `A[rows, columns]` даст не то, что вы ожидаете (можете попробовать это сделать сами и увидеть, что получится; только возьмите `rows` и `columns` одного размера). Справиться с этой задачей позволяет код `A[np.ix_(rows, columns)]`"
   ]
  },
  {
   "cell_type": "markdown",
   "metadata": {
    "id": "UBq_ml2yr-DS"
   },
   "source": [
    "*Умножение матриц* производится с помощью функции `np.dot()` либо оператора `@`. Есть три варианта написания: `A.dot(B)`, `np.dot(A, B)` и `A @ B`.\n",
    "\n",
    "Обычные знаки арифметических действий (`+`, `-`, `*`) зарезервированы для поэлементных операций. Например, `A * B` – это матрица, элементами которой являются произведения $A_{ij}B_{ij}$. Помимо этих есть и множество других поэлементных операций. Например, `numpy.exp(A)` – это матрица, элементами которой являются экспоненты элементов матрицы `A`."
   ]
  },
  {
   "cell_type": "markdown",
   "metadata": {
    "id": "fZk9Fcmar-DT"
   },
   "source": [
    "Чтобы получить матрицу, *транспонированную* к матрице `A`, напишите просто `A.T`. "
   ]
  },
  {
   "cell_type": "markdown",
   "metadata": {
    "id": "BklAT3MYr-DT"
   },
   "source": [
    "В некоторых случаях бывает нужно создавать *случайные матрицы*: например, при проведении экспериментов или для инициализации итеративных методов. Средства для этого предоставляет пакет [numpy.random](https://docs.scipy.org/doc/numpy/reference/routines.random.html). Так, `np.random.rand(m,n)` – это матрица $m\\times n$, элементы которой независимо выбраны из равномерного распределения на интервале `[0;1)`."
   ]
  },
  {
   "cell_type": "markdown",
   "metadata": {
    "id": "qEnErjp6r-DU"
   },
   "source": [
    "Для *решения систем линейных уравнений* в пакете `scipy.linalg` есть множество методов, рассмотрение которых выходит за пределы стандартного курса линейной алгебры. Мы вам пока предлагаем пользоваться функцией `scipy.linalg.solve`, основанной на методе Гаусса. Отметим, что `scipy.linalg.solve(A, B)` выдаёт решение уравнения $AX = B$ (или ошибку), где $B$ может быть как вектором, так и матрицей.\n",
    "\n",
    "Найти обратную матрицу для матрицы $A$ можно с помощью функции `sla.inv(A)`."
   ]
  },
  {
   "cell_type": "markdown",
   "metadata": {
    "id": "gKccN2XRr-DU"
   },
   "source": [
    "**Копирование сложных объектов в Python**"
   ]
  },
  {
   "cell_type": "markdown",
   "metadata": {
    "id": "hcYma3Ahr-DV"
   },
   "source": [
    "Когда вы делаете присваивание каких-то сложных объектов, как правило, оно происходит по ссылке. Например, код\n",
    "```\n",
    "B = A\n",
    "B[0,0] = 10\n",
    "```\n",
    "приведёт к изменению матрицы `A`.\n",
    "\n",
    "Не попадайтесь в эту ловушку! Если вы хотите работать с копией как с независимой матрицей, используйте метод `copy()`:\n",
    "```\n",
    "B = A.copy()\n",
    "```"
   ]
  },
  {
   "cell_type": "markdown",
   "metadata": {
    "id": "skr3SVKir-DW"
   },
   "source": [
    "**Где искать помощь**"
   ]
  },
  {
   "cell_type": "markdown",
   "metadata": {
    "id": "ZwzIfvS_r-DW"
   },
   "source": [
    "Библиотеки `numpy` и `scipy` снабжены прекрасной документацией. Если у вас возникают вопросы о том, как работает та или иная функция (или даже как называется функция, выполняющая то, что вам нужно), вы почти всегда можете найти там ответы.\n",
    "\n",
    "[Ссылка на документацию пакета scipy.linalg](https://docs.scipy.org/doc/scipy-0.18.1/reference/linalg.html)\n",
    "\n",
    "Если у вас возникает какая-то ошибка и вы не можете понять, что вы делаете не так, то\n",
    "\n",
    "1) в первую очередь попробуйте просто загуглить текст ошибки, наверняка в интернете кто-то уже сталкивался с такой ситуацией;  \n",
    "2) поспрашивайте своих одногруппников, не было ли у них такой ошибки, и если была, то как они справлялись;  \n",
    "3) попросите помощи у вашего учебного ассистента.\n",
    "\n",
    "\n"
   ]
  },
  {
   "cell_type": "markdown",
   "metadata": {
    "id": "PggwvCWer-DW"
   },
   "source": [
    "**И всё-таки задание**"
   ]
  },
  {
   "cell_type": "markdown",
   "metadata": {
    "id": "jA4ZWChmr-DX"
   },
   "source": [
    "**Задание 1.1 [0.2 балла за каждый пункт]** В качестве первого задания мы попросим вас отыскать соответствующие функции в библиотеке и сделать следующее:\n",
    "\n",
    "- создайте нулевую матрицу $Z$ размера $3\\times4$;\n",
    "\n",
    "- создайте диагональную матрицу $5\\times5$ с диагональными элементами 1, 2, 3, 4 и 5;\n",
    "\n",
    "- найдите её след (не силою мысли, а с помощью библиотечных функций, конечно);\n",
    "\n",
    "- найдите обратную к ней матрицу;\n",
    "\n",
    "- сгенерируйте случайную матрицу $X$ размера $4\\times5$;\n",
    "\n",
    "- найдите определитель подматрицы матрицы $X$, расположенной на пересечении 2-й и 3-й строк и 1-го и 2-го столбцов; считаем, что строки и столбцы нумеруются с единицы (используйте slicing!). Такой определитель называется **минором** матрицы $X$;\n",
    "\n",
    "- найдите произведение $X^TX$.\n",
    "\n",
    "Пожалуйста, каждый пункт делайте в новом блоке и не забывайте распечатывать результаты."
   ]
  },
  {
   "cell_type": "code",
   "execution_count": 68,
   "metadata": {
    "id": "gmrs4RQCr-Db"
   },
   "outputs": [
    {
     "name": "stdout",
     "output_type": "stream",
     "text": [
      "[[0 0 0 0]\n",
      " [0 0 0 0]\n",
      " [0 0 0 0]]\n",
      "[[1 0 0 0 0]\n",
      " [0 2 0 0 0]\n",
      " [0 0 3 0 0]\n",
      " [0 0 0 4 0]\n",
      " [0 0 0 0 5]]\n",
      "15\n",
      "[[1.         0.         0.         0.         0.        ]\n",
      " [0.         0.5        0.         0.         0.        ]\n",
      " [0.         0.         0.33333333 0.         0.        ]\n",
      " [0.         0.         0.         0.25       0.        ]\n",
      " [0.         0.         0.         0.         0.2       ]]\n",
      "[[ 0  7  7 23  2]\n",
      " [26  0 22 24 21]\n",
      " [14 16 15 20  0]\n",
      " [20 11 14  9 14]]\n",
      "416.0\n",
      "[[1272  444 1062 1084  826]\n",
      " [ 444  426  443  580  168]\n",
      " [1062  443  954 1115  672]\n",
      " [1084  580 1115 1586  676]\n",
      " [ 826  168  672  676  641]]\n"
     ]
    }
   ],
   "source": [
    "import numpy as np\n",
    "\n",
    "import scipy.linalg as sla\n",
    "\n",
    "import matplotlib.pyplot as plt\n",
    "%matplotlib inline\n",
    "\n",
    "#нулевая матрица\n",
    "z = np.zeros((3, 4),int)\n",
    "print(z)\n",
    "\n",
    "#диагональная матрица\n",
    "a = np.zeros((5, 5), int)\n",
    "diag = np.array([1, 2, 3, 4, 5])\n",
    "np.fill_diagonal(a, diag)\n",
    "print(a)\n",
    "\n",
    "#след\n",
    "print(np.trace(a))\n",
    "\n",
    "#обратная матрица\n",
    "b = np.linalg.inv(a)\n",
    "print(b)\n",
    "\n",
    "#случайная\n",
    "x = np.array(np.random.randint(30, size=(4, 5)))\n",
    "print(x)\n",
    "\n",
    "#определитель подматрицы\n",
    "y = x[np.ix_([1,2],[0,1])]\n",
    "print(np.linalg.det(y))\n",
    "\n",
    "#произведение\n",
    "xt = np.transpose(x)\n",
    "print(xt.dot(x))"
   ]
  },
  {
   "cell_type": "markdown",
   "metadata": {
    "id": "Dq9CP3Tvr-Dc"
   },
   "source": [
    "## Часть 2. Время\n",
    "\n",
    "Питон мотивирует пользоваться библиотечными функциями, когда они доступны, а не писать собственные. Библиотечные функции основаны на современных алгоритмах, обычно пишутся на более эффективных языках, таких как C++ или Fortran, а кроме того, оптимизированы для работы на многопроцессорных устройствах, так что обогнать эти решения просто так вы не сможете.\n",
    "\n",
    "**Задание 2.1 [1 балл]**\n",
    "Мы предлагаем вам убедиться в этом самим. Напишите функцию `my_det`, которая вычисляла бы определитель матрицы с помощью элементарных преобразований над строками. Функция должна выкидывать `ValueError` в случаях, если матрица не является квадратной."
   ]
  },
  {
   "cell_type": "code",
   "execution_count": 85,
   "metadata": {
    "id": "g943MUT2r-Dd",
    "tags": []
   },
   "outputs": [
    {
     "name": "stdout",
     "output_type": "stream",
     "text": [
      "[[6 7 5]\n",
      " [3 8 4]\n",
      " [2 4 0]]\n",
      "[[ 6  7  5]\n",
      " [ 0  4  1]\n",
      " [ 0  0 -1]]\n",
      "-24\n"
     ]
    }
   ],
   "source": [
    "\n",
    "import numpy as np\n",
    "\n",
    "import scipy.linalg as sla\n",
    "\n",
    "import matplotlib.pyplot as plt\n",
    "import math\n",
    "%matplotlib inline\n",
    "\n",
    "\n",
    "def maxel(x, first, second):  \n",
    "    global znak\n",
    "    m = x[first].copy()\n",
    "    t = x[second].copy()\n",
    "    if first != second:\n",
    "        znak = znak * (-1)\n",
    "    x[first], x[second] = t, m\n",
    "\n",
    "\n",
    "\n",
    "def dozero(x, ind):  \n",
    "    for i in range(ind + 1, len(x)):\n",
    "        umnoz = -x[i][ind]\n",
    "        if x[ind][ind] != 0:\n",
    "            x[i] = [(f + g / x[ind][ind] * umnoz) for f, g in zip(x[i], x[ind])]\n",
    "\n",
    "\n",
    "def ulstupvid(x):\n",
    "    if len(x) != len(x[0]):\n",
    "        raise ValueError\n",
    "    else:\n",
    "        ind = 0\n",
    "        while ind < len(x):\n",
    "            now = -1\n",
    "            for i in range(ind, len(x)):\n",
    "                if now == -1 or abs(x[i][ind])>abs(x[now][ind]):\n",
    "                    now = i\n",
    "            maxel(x,now,ind)\n",
    "            \n",
    "            dozero(x, ind)\n",
    "            ind += 1\n",
    "    return x\n",
    "\n",
    "\n",
    "def my_det(x):\n",
    "    global znak\n",
    "    x = ulstupvid(x)\n",
    "    ans = 1 * znak\n",
    "    for i in range(len(x)):\n",
    "        ans = ans * x[i][i]\n",
    "    return ans\n",
    "\n",
    "\n",
    "\n",
    "x = np.array(np.random.randint(10, size=(3, 3)))\n",
    "print(x)\n",
    "\n",
    "znak = 1\n",
    "ind = 0\n",
    "i = 2\n",
    "\n",
    "\n",
    "print(ulstupvid(x))\n",
    "print(my_det(x))\n",
    "\n",
    "\n",
    "\n",
    "\n",
    "\n",
    "\n"
   ]
  },
  {
   "cell_type": "markdown",
   "metadata": {
    "id": "yH3RBFebr-Dd"
   },
   "source": [
    "Простая проверка:"
   ]
  },
  {
   "cell_type": "code",
   "execution_count": 10,
   "metadata": {
    "id": "zZkvjyIMr-De",
    "tags": []
   },
   "outputs": [
    {
     "name": "stdout",
     "output_type": "stream",
     "text": [
      "-1\n"
     ]
    }
   ],
   "source": [
    "\n",
    "import numpy as np\n",
    "\n",
    "import scipy.linalg as sla\n",
    "\n",
    "import matplotlib.pyplot as plt\n",
    "import math\n",
    "%matplotlib inline\n",
    "\n",
    "\n",
    "def maxel(x, ind):  # переносит строку с наибольшем числом наверх\n",
    "    global znak\n",
    "    maxx = -39044094829008989\n",
    "    numbstr = 0\n",
    "    ind = 0\n",
    "    for i in range(len(x)):\n",
    "        if x[i][ind] > maxx:\n",
    "            maxx = x[i][ind]\n",
    "            numbstr = i\n",
    "    m = x[numbstr].copy()\n",
    "    t = x[ind].copy()\n",
    "    if numbstr != ind:\n",
    "        znak += 1\n",
    "    x[numbstr], x[ind] = t, m\n",
    "    return x\n",
    "\n",
    "\n",
    "\n",
    "\n",
    "\n",
    "def dozero(x, i, ind, umnoz):  # делаем нули\n",
    "    if x[ind][ind]!=0:\n",
    "            x[i] = [(a + k / x[ind][ind] * umnoz) for a, k in zip(x[i], x[ind])]\n",
    "    \n",
    "\n",
    "def ulstupvid(x):\n",
    "    if len(x) != len(x[0]):\n",
    "        raise ValueError\n",
    "    else:\n",
    "        ind = 0\n",
    "        while ind < len(x):\n",
    "            x = maxel(x, ind)\n",
    "            for i in range(ind + 1, len(x)):\n",
    "                dozero(x, i, ind, -x[i][ind])\n",
    "            ind += 1\n",
    "    return x\n",
    "\n",
    "def my_det(x):\n",
    "    global znak\n",
    "    x = ulstupvid(x)\n",
    "    ans = 1 * (-1)**znak\n",
    "    for i in range(len(x)):\n",
    "        ans = ans * x[i][i]\n",
    "    return ans\n",
    "\n",
    "\n",
    "znak = 0\n",
    "ind = 0\n",
    "i = 2\n",
    "\n",
    "x = np.array([[0,0,1], [0,1,0], [1,0,0]])\n",
    "print(my_det(x))"
   ]
  },
  {
   "cell_type": "markdown",
   "metadata": {
    "id": "Lw3SUmFcr-Dg"
   },
   "source": [
    "Теперь давайте сравним скорость работы вашей функции и библиотечной функции `scipy.linalg.det`. В Питоне есть несколько способов измерения времени; мы воспользуемся декоратором `%timeit`. Будучи написан перед функцией, он запускает её некоторое количество раз, выбирает три случайных запуска и возвращает длительность самого быстрого из них. Модификатор `-o` между декоратором и функцией позволяет сохранять результаты работы декоратора в переменную.\n",
    "\n",
    "Приготовьтесь, что следующий блок может работать сравнительно долго."
   ]
  },
  {
   "cell_type": "code",
   "execution_count": null,
   "metadata": {
    "id": "J8MHVMDTr-Dh",
    "tags": []
   },
   "outputs": [],
   "source": [
    "# Запустите этот блок кода\n",
    "lib_times = []\n",
    "my_times = []\n",
    "dimensions = [10, 100, 1000]\n",
    "for dim in dimensions:\n",
    "    A = np.random.rand(dim, dim)\n",
    "    res_lib = %timeit -o sla.det(A)\n",
    "    lib_times.append(res_lib.best)\n",
    "    res_my = %timeit -o my_det(A)\n",
    "    my_times.append(res_my.best)    \n",
    "\n",
    "plt.plot(dimensions, lib_times, color='blue', label='Library function')\n",
    "plt.plot(dimensions, my_times, color='red', label='My function')\n",
    "plt.title('My function vs library function, log y scale')\n",
    "plt.ylabel('Time')\n",
    "plt.xlabel('Matrix dimension')\n",
    "plt.legend()"
   ]
  },
  {
   "cell_type": "markdown",
   "metadata": {
    "id": "3snj6Ssyr-Dh"
   },
   "source": [
    "У вас должны были получиться графики, показывающие, как растёт с ростом размерности матрицы время вычисления определителя. Поскольку они вышли не больно-то красивыми, мы нарисуем их в *логарифмическом масштабе* по оси у:"
   ]
  },
  {
   "cell_type": "code",
   "execution_count": null,
   "metadata": {
    "id": "DvHEs5bpr-Di",
    "tags": []
   },
   "outputs": [],
   "source": [
    "# Запустите этот блок кода\n",
    "plt.semilogy(dimensions, lib_times, color='blue', label='Library function')\n",
    "plt.semilogy(dimensions, my_times, color='red', label='My function')\n",
    "plt.title('My function vs library function, log y scale')\n",
    "plt.ylabel('Time')\n",
    "plt.xlabel('Matrix dimension')\n",
    "plt.legend()"
   ]
  },
  {
   "cell_type": "markdown",
   "metadata": {
    "id": "1hNKxIy_r-Di"
   },
   "source": [
    "Вы можете убедиться, что библиотечная функция работает *гораздо* быстрее."
   ]
  },
  {
   "cell_type": "markdown",
   "metadata": {
    "id": "jpswHTx4r-Di"
   },
   "source": [
    "## Часть 3. Точность\n",
    "\n",
    "Наверняка вы уже что-то знаете про floating point arithmetics и связанные с этим трудности и понимаете, что на компьютере вычисления с вещественными числами производятся лишь с ограниченной точностью. "
   ]
  },
  {
   "cell_type": "markdown",
   "metadata": {
    "id": "sbHBREf1r-Dj"
   },
   "source": [
    "**Задание 3.1 [0.6 балла]** В качестве первого примера, показывающего различие между длинной арифметикой целых чисел и floating point arithmetics, предлагаем вам перемножить две пары матриц:\n",
    "\n",
    "$$\n",
    "\\begin{pmatrix}\n",
    "1 & 0\\\\\n",
    "10^{20} & 1\n",
    "\\end{pmatrix}\n",
    "\\cdot\n",
    "\\begin{pmatrix}\n",
    "10^{-20} & 1\\\\\n",
    "0 & 1 - 10^{20}\n",
    "\\end{pmatrix}\n",
    "$$\n",
    "и\n",
    "$$\n",
    "\\begin{pmatrix}\n",
    "1. & 0.\\\\\n",
    "10.^{20} & 1.\n",
    "\\end{pmatrix}\n",
    "\\cdot\n",
    "\\begin{pmatrix}\n",
    "10.^{-20} & 1.\\\\\n",
    "0. & 1. - 10.^{20}\n",
    "\\end{pmatrix}\n",
    "$$\n",
    "Во втором случае мы специально указали Питону (поставив везде десятичные точки), что хотим работать не с целыми числами, а с числами с плавающей точкой. Посмотрим, получатся ли одинаковые ответы:"
   ]
  },
  {
   "cell_type": "code",
   "execution_count": 40,
   "metadata": {
    "id": "DrPBRd5xr-Dj",
    "tags": []
   },
   "outputs": [
    {
     "name": "stdout",
     "output_type": "stream",
     "text": [
      "[[1e-20 1]\n",
      " [1.0 1]]\n",
      "[[1.e-20 1.e+00]\n",
      " [1.e+00 0.e+00]]\n"
     ]
    }
   ],
   "source": [
    "# Your code here\n",
    "import numpy as np\n",
    "\n",
    "import scipy.linalg as sla\n",
    "\n",
    "import matplotlib.pyplot as plt\n",
    "%matplotlib inline\n",
    "\n",
    "\n",
    "a = np.array([[1,0],[10**20,1]])\n",
    "b = np.array([[10**(-20),1],[0,1-10**20]])\n",
    "aa = np.array(([[1,0],[10**20,1]]),float)\n",
    "bb = np.array(([[10**(-20),1],[0,1-10**20]]),float)\n",
    "print(a.dot(b))\n",
    "print(aa.dot(bb))"
   ]
  },
  {
   "cell_type": "markdown",
   "metadata": {
    "id": "Pt3aLW1Or-Dk"
   },
   "source": [
    "И какой из них правильный?\n",
    "\n",
    "---\n",
    "**Напишите здесь свой ответ** 1 вариант, так как при использовании чисел с плавающей точкой происходит перевод в двоичную систему. Двоичное число недостаточно точно представляет исходное число"
   ]
  },
  {
   "cell_type": "markdown",
   "metadata": {
    "id": "jiY-QrKPr-Dk"
   },
   "source": [
    "**Задание 3.2 [0.75 балла]** Впрочем, и с целыми числами тоже не всегда всё хорошо. Напишите функцию, генерирующую *матрицу Паскаля* заданной размерности $n$, то есть матрицу $P$, в которой $P_{ij} = C_{i+j}^i$. В этом задании нельзя пользоваться библиотечной функцией `scipy.linalg.pascal` или её аналогами из других библиотек. Обратите внимание, что использование факториалов крайне нежелательно, так как быстро приведёт к переполнению.\n",
    "\n",
    "В этом задании вы можете использовать цикл ``for``."
   ]
  },
  {
   "cell_type": "code",
   "execution_count": 61,
   "metadata": {
    "id": "rDU_5JgZr-Dl",
    "tags": []
   },
   "outputs": [
    {
     "name": "stdin",
     "output_type": "stream",
     "text": [
      " 5\n"
     ]
    },
    {
     "data": {
      "text/plain": [
       "[[1, 1, 1, 1, 1],\n",
       " [1, 2, 3, 4, 5],\n",
       " [1, 3, 6, 10, 15],\n",
       " [1, 4, 10, 20, 35],\n",
       " [1, 5, 15, 35, 70]]"
      ]
     },
     "execution_count": 61,
     "metadata": {},
     "output_type": "execute_result"
    }
   ],
   "source": [
    "def my_pascal(dim):\n",
    "    '''\n",
    "    Мы создали для вас матрицу из нулей размера dim x dim,\n",
    "    но вы можете ей не пользоваться, если не хотите\n",
    "    '''\n",
    "    #P = np.zeros((dim, dim))\n",
    "    \n",
    "    # Your code here\n",
    "    P = [[1]*dim for i in range(dim)]\n",
    "    for i in range(1, dim):\n",
    "        for j in range(1, dim):\n",
    "            P[i][j] = P[i-1][j] + P[i][j-1]\n",
    "    return P\n",
    "    \n",
    "    \n",
    "n = int(input())\n",
    "my_pascal(n)\n"
   ]
  },
  {
   "cell_type": "markdown",
   "metadata": {
    "id": "PcK88FAmr-Dl"
   },
   "source": [
    "Чему равен её определитель? **Строго** поясните свой ответ.\n",
    "\n",
    "----\n",
    "**Ваше решение** С помощью элементарных преобразований симметричную матрицу Паскаля можно привести к верхнетреугольному и нижнетреугольному виду, где на главной диагонали стоят единички (получается, что определитель обеих матриц равен 1). Заметим, что симметричная матрица Паскаля равна произведению этих двух матриц, получается, что и её определитель равен 1."
   ]
  },
  {
   "cell_type": "markdown",
   "metadata": {
    "id": "9FtlxI5xr-Dl"
   },
   "source": [
    "А теперь вычислите определитель матрицы Паскаля $30\\times30$ с помощью библиотечной функции `scipy.linalg.det`:"
   ]
  },
  {
   "cell_type": "code",
   "execution_count": 62,
   "metadata": {
    "id": "LF-9p43cr-Dm",
    "tags": []
   },
   "outputs": [
    {
     "name": "stdout",
     "output_type": "stream",
     "text": [
      "-7.109158315047058e+49\n"
     ]
    }
   ],
   "source": [
    "# Your code here\n",
    "import numpy as np\n",
    "\n",
    "import scipy.linalg as sla\n",
    "\n",
    "import matplotlib.pyplot as plt\n",
    "%matplotlib inline\n",
    "\n",
    "def my_pascal(dim):\n",
    "    P = [[1]*dim for i in range(dim)]\n",
    "    for i in range(1, dim):\n",
    "        for j in range(1, dim):\n",
    "            P[i][j] = P[i-1][j] + P[i][j-1]\n",
    "    return P\n",
    "    \n",
    "\n",
    "print(np.linalg.det(my_pascal(30)))\n",
    "\n"
   ]
  },
  {
   "cell_type": "markdown",
   "metadata": {
    "id": "XkP5Lz39r-Dn"
   },
   "source": [
    "Разница заметна невооружённым взглядом!"
   ]
  },
  {
   "cell_type": "markdown",
   "metadata": {
    "id": "P-Lw8ufLr-Dn"
   },
   "source": [
    "## Часть 4. Матричные вычисления"
   ]
  },
  {
   "cell_type": "markdown",
   "metadata": {
    "id": "vhYgy7k_r-Do"
   },
   "source": [
    "Вы уже видели, что использования циклов (и самописных вычислений в целом) в Питоне лучше по возможности избегать, и важно уметь находить способы делать всё библиотечными средствами.\n",
    "\n",
    "В качестве примера рассмотрим две задачи:\n",
    "\n",
    "**1.** Предположим, нужно вычислить суммы элементов в каждой строке матрицы `A`. Ясно, что можно написать простую функцию с двумя циклами, которая это посчитает, но так лучше не делать. Правильный способ такой:\n",
    "```\n",
    "A.sum(axis=1)\n",
    "```\n",
    "Параметр `axis=1` означает, что суммы берутся по строкам. Если вы хотите просуммировать по столбцам, укажите `axis=0`. Если вообще пропустить параметр `axis` (вызвать `A.sum()`), то функция вернёт сумму *всех* элементов матрицы.\n",
    "\n",
    "**2.** Теперь допустим, что нам нужно каждый столбец матрицы `A` умножить на некоторое число. Более точно, пусть у нас есть (одномерный) вектор `w = np.array([w_1,...,w_n])`, и мы должны `i`-й столбец `A` умножить на число `w_i`. Опять же, это можно сделать в пару циклов, но лучше использовать операцию поэлементного умножения:\n",
    "```\n",
    "A * w.reshape((1,n))\n",
    "```\n",
    "Оператор `reshape` нужен для того, чтобы из одномерного вектора сделать вектор-строку.\n",
    "\n",
    "Аналогично, если на числа `w_1,...,w_n` умножаются *строки* матрицы, нужно превратить `w` в вектор-столбец:\n",
    "```\n",
    "A * w.reshape((n,1))\n",
    "```"
   ]
  },
  {
   "cell_type": "markdown",
   "metadata": {
    "id": "Hat1t__0r-Do"
   },
   "source": [
    "Дальше вам будет предложено попрактиковаться в матричных вычислениях. В следующих трёх заданиях нельзя пользоваться циклами, а также конструкциями `map` и `reduce` и им подобными; вместо этого постарайтесь свести всё к матричным операциям из `numpy` (но, опять же, не `np.vectorize` или чему-то подобному). Чтобы убедиться, что получилось именно то, что нужно, пишите собственные тесты со случайными матрицами."
   ]
  },
  {
   "cell_type": "markdown",
   "metadata": {
    "id": "kMJB7H_Rr-Dp"
   },
   "source": [
    "**Задание 4.1 [0.75 балла]** Напишите функцию `prod_and_sq_sum(A)`, вычисляющую произведение диагональных элементов, а также сумму квадратов диагональных элементов квадратной матрицы `A`."
   ]
  },
  {
   "cell_type": "code",
   "execution_count": 177,
   "metadata": {
    "id": "_y-KXozGr-Dp",
    "tags": []
   },
   "outputs": [
    {
     "name": "stdout",
     "output_type": "stream",
     "text": [
      "[[4 2 3 4]\n",
      " [3 3 3 4]\n",
      " [3 1 1 3]\n",
      " [3 0 4 4]]\n",
      "48 42\n"
     ]
    }
   ],
   "source": [
    "# Your code here\n",
    "import numpy as np\n",
    "\n",
    "import scipy.linalg as sla\n",
    "\n",
    "import matplotlib.pyplot as plt\n",
    "%matplotlib inline\n",
    "\n",
    "\n",
    "def prod_and_sq_sum(a):\n",
    "    t = np.diag(a)\n",
    "    b = np.diag(np.square(a))\n",
    "    return t.prod(), b.sum()\n",
    "    \n",
    "    \n",
    "x = np.array(np.random.randint(5, size=(4, 4)))\n",
    "print(x)\n",
    "print(*prod_and_sq_sum(x))\n"
   ]
  },
  {
   "cell_type": "markdown",
   "metadata": {
    "id": "BmTUHs8Ar-Dp"
   },
   "source": [
    "**Задание 4.2 [0.75 балла]** Для матриц `A` и `B` размера $m\\times n$ обозначим через $a_1,\\ldots,a_n$ и $b_1,\\ldots,b_n$ соответственно их столбцы; пусть также $\\lambda_1, \\ldots, \\lambda_n$ – некоторые числа. Напишите функцию `f(A, B, lmbd, k)`, вычисляющую\n",
    "\n",
    "$$\\sum_{i=1}^{\\min(k,n)}\\lambda_ia_ib_i^T$$"
   ]
  },
  {
   "cell_type": "code",
   "execution_count": 176,
   "metadata": {
    "id": "rXVb6AARr-Dq",
    "tags": []
   },
   "outputs": [
    {
     "name": "stdin",
     "output_type": "stream",
     "text": [
      " 1 2 3 4\n",
      " 2\n"
     ]
    },
    {
     "name": "stdout",
     "output_type": "stream",
     "text": [
      "[[0 5 4 6]\n",
      " [2 6 1 6]\n",
      " [9 5 6 6]\n",
      " [9 9 3 4]]\n",
      "[[1 6 8 9]\n",
      " [3 5 5 3]\n",
      " [6 9 3 3]\n",
      " [2 1 6 3]]\n",
      "[[ 60  50  90  10]\n",
      " [ 74  66 120  16]\n",
      " [ 69  77 144  28]\n",
      " [117 117 216  36]]\n"
     ]
    }
   ],
   "source": [
    "# Your code here\n",
    "import numpy as np\n",
    "\n",
    "import scipy.linalg as sla\n",
    "\n",
    "import matplotlib.pyplot as plt\n",
    "%matplotlib inline\n",
    "\n",
    "\n",
    "def f(A, B, lmbd, k):\n",
    "    global answ\n",
    "    strok, stolb = A.shape\n",
    "    k = min(k, stolb)\n",
    "    if k == 1:\n",
    "        stolb_a = A[:, k - 1]\n",
    "        stolb_a = stolb_a.reshape(strok, 1)\n",
    "        stolb_b = B[:, k - 1]\n",
    "        stolb_b = stolb_b.reshape(1, strok)\n",
    "        lmbd_numb = lmbd[k - 1]\n",
    "        answ += lmbd_numb * (stolb_a * stolb_b)\n",
    "        return answ\n",
    "    else:\n",
    "        stolb_a = A[:, k - 1]\n",
    "        stolb_a = stolb_a.reshape(strok, 1)\n",
    "        stolb_b = B[:, k - 1]\n",
    "        stolb_b = stolb_b.reshape(1, strok)\n",
    "        lmbd_numb = lmbd[k - 1]\n",
    "        answ += lmbd_numb * (stolb_a * stolb_b)\n",
    "        f(A, B, lmbd, k - 1)\n",
    "\n",
    "        \n",
    "\n",
    "lmbd=list(map(int, input().split()))\n",
    "k = int(input())  \n",
    "A = np.array(np.random.randint(10, size=(4, 4)))\n",
    "print (A)\n",
    "B = np.array(np.random.randint(10, size=(4, 4)))\n",
    "answ = 0 \n",
    "print (B)\n",
    "f(A, B, lmbd, k)\n",
    "print(answ)"
   ]
  },
  {
   "cell_type": "markdown",
   "metadata": {
    "id": "RFlCOb_1r-Dq"
   },
   "source": [
    "**Задание 4.3 [0.75 балла]** Напишите функцию `get_diag(A,B)`, принимающую две квадратных матрицы матрицы `A` и `B` одного размера и возвращающую вектор диагональных элементов произведения `AB`, не вычисляя произведение целиком. "
   ]
  },
  {
   "cell_type": "code",
   "execution_count": 165,
   "metadata": {
    "id": "UafXckVtr-Dr",
    "tags": []
   },
   "outputs": [
    {
     "name": "stdout",
     "output_type": "stream",
     "text": [
      "[[1 4 0 3]\n",
      " [2 2 2 3]\n",
      " [3 4 3 3]\n",
      " [4 3 1 4]]\n",
      "[[4 2 3 4]\n",
      " [4 2 1 2]\n",
      " [1 3 0 4]\n",
      " [0 3 3 1]]\n",
      "[20 23 22 30]\n"
     ]
    }
   ],
   "source": [
    "import numpy as np\n",
    "import scipy.linalg as sla\n",
    "import matplotlib.pyplot as plt\n",
    "%matplotlib inline\n",
    "\n",
    "def get_diag(A,B):\n",
    "    return np.sum(A * B.T, axis=1)\n",
    "    \n",
    "    \n",
    "A = np.array(np.random.randint(5, size=(4, 4)))\n",
    "B = np.array(np.random.randint(5, size=(4, 4)))\n",
    "print(A)\n",
    "print(B)\n",
    "print(get_diag(A,B))"
   ]
  },
  {
   "cell_type": "markdown",
   "metadata": {
    "id": "6IMMmVtpr-Dr"
   },
   "source": [
    "## Часть 5. Комплексные числа и геометрия"
   ]
  },
  {
   "cell_type": "markdown",
   "metadata": {
    "id": "M_R3OAUjr-Dr"
   },
   "source": [
    "У вас уже была возможность убедиться, что многие операции над комплексными числами имеют наглядную геометрическую интерпретацию. В этом задании вам будет предложено этим воспользоваться.\n",
    "\n",
    "В Python число $i$ (мнимая единица) обозначено через `1j`. Так, число $0,5 + 1,2i$ будет иметь вид `0.5 + 1.2 * 1j`.\n",
    "\n",
    "При выполнении задания вы должны работать с точками плоскости как с комплексными числами. Любые преобразования должны быть реализованы с помощью операций над комплексными числами: сложения, вычитания, умножения, деления, возведения в степень и комплексного сопряжения.\n",
    "\n",
    "**Задание 5.1 [0.5 баллов]** Напишите функцию `shrink_rotate`, которая принимает на вход:\n",
    "- заданную в виде комплексного числа точку $X$, которую мы подвергаем преобразованию,\n",
    "- заданную в виде комплексного числа точку $A$, \n",
    "- действительный коэффициент `coef`,\n",
    "- угол `alpha`, заданный в радианах\n",
    "\n",
    "и осуществляет следующее преобразование: мы берём вектор $AX$, умножаем его на `coef`, поворачиваем вокруг точки $A$ на угол `alpha` против часовой стрелки, после чего возвращаем конец полученного вектора. Ниже (левая картинка) мы приводим иллюстрацию действия этого преобразования:\n",
    "\n",
    "<img src=\"ShrinkRotate.png\">\n",
    "\n",
    "**Задание 5.2 [0.5 баллов]** Напишите функцию `shrink_rotate_conj`, которая сначала делает то же самое, что и `shrink_rotate`, а после этого отражает вектор $AY$ относительно горизонтальной прямой, проходящей через точку $A$, и возвращает точку $Y'$ (см. правую часть рисунка).\n",
    "\n",
    "**Задание 5.3 [0.5 баллов]** Напишите функцию `geometric_inverse`, которая принимает на вход:\n",
    "- заданную в виде комплексного числа точку $X$, которую мы подвергаем преобразованию,\n",
    "- заданную в виде комплексного числа точку $A$, \n",
    "- положительное действительное число $r$\n",
    "\n",
    "и осуществляет инверсию точки $X$ относительно окружности с центром $A$ радиуса $r$. [Определение инверсии вы можете посмотреть здесь](https://ru.wikipedia.org/wiki/%D0%98%D0%BD%D0%B2%D0%B5%D1%80%D1%81%D0%B8%D1%8F_(%D0%B3%D0%B5%D0%BE%D0%BC%D0%B5%D1%82%D1%80%D0%B8%D1%8F))."
   ]
  },
  {
   "cell_type": "code",
   "execution_count": 34,
   "metadata": {
    "id": "3NdSgR5gr-Ds",
    "tags": []
   },
   "outputs": [
    {
     "name": "stdout",
     "output_type": "stream",
     "text": [
      "(7.204674715759027+2.472906837295855j)\n",
      "(7.204674715759027-2.472906837295855j)\n",
      "(0.75+1.75j)\n"
     ]
    }
   ],
   "source": [
    "import numpy as np\n",
    "import math\n",
    "\n",
    "import scipy.linalg as sla\n",
    "\n",
    "import matplotlib.pyplot as plt\n",
    "%matplotlib inline\n",
    "\n",
    "'''def rotate(origin, point, angle):\n",
    "    ox, oy = origin\n",
    "    px, py = point\n",
    "    xone = ax + math.cos(angle) * (ox - ax) - math.sin(angle) * (oy - ay)\n",
    "    yone = ay + math.sin(angle) * (ox - ax) + math.cos(angle) * (oy - ay)\n",
    "    return qx, qy'''\n",
    "\n",
    "def shrink_rotate(X, A, coef, angle):\n",
    "    A = A * coef #mult\n",
    "    X = X * coef #mult\n",
    "    \n",
    "    ax = A.real\n",
    "    ay = A.imag\n",
    "    ox = X.real\n",
    "    oy = X.imag\n",
    "    xone = ax + math.cos(angle) * (ox - ax) - math.sin(angle) * (oy - ay) #rotate\n",
    "    yone = ay + math.sin(angle) * (ox - ax) + math.cos(angle) * (oy - ay) #rotate\n",
    "\n",
    "    return complex(xone, yone)\n",
    "    #raise NotImplementedError()\n",
    "    \n",
    "def shrink_rotate_conj(X, A, coef=1., angle=0.):\n",
    "    A = A * coef #mult\n",
    "    X = X * coef #mult\n",
    "    \n",
    "    ax = A.real\n",
    "    ay = A.imag\n",
    "    ox = X.real\n",
    "    oy = X.imag\n",
    "    xone = ax + math.cos(angle) * (ox - ax) - math.sin(angle) * (oy - ay) #rotate\n",
    "    yone = ay + math.sin(angle) * (ox - ax) + math.cos(angle) * (oy - ay) #rotate\n",
    "    p = complex(xone, yone)\n",
    "    return np.conj(p)\n",
    "    #raise NotImplementedError()\n",
    "    \n",
    "def geometric_inverse(P, A, r):\n",
    "    ax = A.real\n",
    "    ay = A.imag\n",
    "    px = P.real\n",
    "    py = P.imag\n",
    "    xn = ax + (r**2*(px-ax)/((px-ax)**2+(py-ay)**2))\n",
    "    yn = ay + (r**2*(py-ay)/((px-ax)**2+(py-ay)**2))\n",
    "    p = complex(xn,yn)\n",
    "    return p\n",
    "    \n",
    "    \n",
    "    '''AP = ((py-ay)**2+(px-ax)**2)**0.5\n",
    "    AN = r**2/AP\n",
    "    coef = AN / AP\n",
    "    P = P * coef\n",
    "    return P\n",
    "    #raise NotImplementedError()'''\n",
    "    \n",
    "\n",
    "#X = complex('1+2j')\n",
    "#A = complex('0+1.5j')\n",
    "r = 3.0\n",
    "#X = complex('0+1,2j')\n",
    "#A = complex('1+1,5j')\n",
    "X = complex('1+2j')\n",
    "A = complex('3+4j')\n",
    "coef = 2.\n",
    "angle = 1.\n",
    "print(shrink_rotate(X, A, coef, angle)) \n",
    "print(shrink_rotate_conj(X, A, coef, angle))\n",
    "print(geometric_inverse(X, A, r))\n",
    "\n",
    "#shrink_rotate(X, A, coef = 1., angle = 0.)\n",
    "#x = complex(input())\n",
    "#a = complex(input())\n",
    "#coef= float(input())\n",
    "#alpha = float(input())"
   ]
  },
  {
   "cell_type": "markdown",
   "metadata": {
    "id": "NeashSv6r-Ds"
   },
   "source": [
    "**Задание 5.4 [0.75 баллов]** Рассмотрим следующий процесс:\n",
    "\n",
    "```\n",
    "z = 0.5 + 0.*1j\n",
    "max_iter = 100000\n",
    "funcs = [\n",
    "    (lambda t: shrink_rotate(t, 0. + 1.*1j, coef=0.5, angle=0.)),\n",
    "    (lambda t: shrink_rotate(t, 1. + 0.*1j, coef=0.5, angle=0.)),\n",
    "    (lambda t: shrink_rotate(t, -1. + 0.*1j, coef=0.5, angle=0.))\n",
    "]\n",
    "\n",
    "for n_iter in range(max_iter):\n",
    "    n_func = np.random.choice(len(funcs))\n",
    "    z = funcs[n_func](z)\n",
    "```\n",
    "\n",
    "Запустите его и нарисуйте множество точек, получающихся на итерациях начиняя с десятой.\n",
    "\n",
    "*Указание*. Представьте квадрат $[-1,1]\\times[-1,1]$ матрицей пикселей 1000x1000. Сначала все элементы матрицы положим нулями, а на каждой итерации начиная с десятой будем присваивать единицу соответствующему пикселю этой матрицы. То, что получилось, можно нарисовать с помощью функции `plt.imshow(..., cmap='gray')`. Картинку лучше сделать побольше, предварив `imshow` вызовом `plt.figure(figsize=(20, 20))`."
   ]
  },
  {
   "cell_type": "code",
   "execution_count": 165,
   "metadata": {
    "id": "7Igcpac1r-Dt",
    "tags": []
   },
   "outputs": [],
   "source": [
    "def shrink_rotate(X, A, coef, angle):\n",
    "    A = A * coef #mult\n",
    "    X = X * coef #mult\n",
    "    \n",
    "    ax = A.real\n",
    "    ay = A.imag\n",
    "    ox = X.real\n",
    "    oy = X.imag\n",
    "    xone = ax + math.cos(angle) * (ox - ax) - math.sin(angle) * (oy - ay) #rotate\n",
    "    yone = ay + math.sin(angle) * (ox - ax) + math.cos(angle) * (oy - ay) #rotate\n",
    "\n",
    "    return complex(xone, yone)\n",
    "\n",
    "# Your code here\n",
    "z = 0.5 + 0.*1j\n",
    "max_iter = 100000\n",
    "funcs = [\n",
    "    (lambda t: shrink_rotate(t, 0. + 1.*1j, coef=0.5, angle=0.)),\n",
    "    (lambda t: shrink_rotate(t, 1. + 0.*1j, coef=0.5, angle=0.)),\n",
    "    (lambda t: shrink_rotate(t, -1. + 0.*1j, coef=0.5, angle=0.))\n",
    "]\n",
    "\n",
    "for n_iter in range(max_iter):\n",
    "    n_func = np.random.choice(len(funcs))\n",
    "    z = funcs[n_func](z)\n",
    "    \n",
    "matrix = []\n",
    "for i in range(1000):\n",
    "    raw = []\n",
    "    for j in range(1000):\n",
    "        raw.append(raw)\n",
    "    matrix.append(raw)\n",
    "    \n"
   ]
  },
  {
   "cell_type": "markdown",
   "metadata": {
    "id": "kB4gYvBlr-Dt"
   },
   "source": [
    "**Задание 5.5 [0.75 баллов]** Попробуйте объяснить, почему получается именно эта фигура."
   ]
  },
  {
   "cell_type": "markdown",
   "metadata": {
    "id": "LQ5SZbJxr-Dt"
   },
   "source": [
    "---\n",
    "Ваше объяснение"
   ]
  },
  {
   "cell_type": "markdown",
   "metadata": {
    "id": "f1aCcERQr-Du"
   },
   "source": [
    "**Задание 5.6 [0.5 баллов]** Поэкспериментируйте с другими преобразованиями. Попробуйте найти какой-нибудь другой красиво выглядящий фрактал."
   ]
  },
  {
   "cell_type": "code",
   "execution_count": null,
   "metadata": {
    "collapsed": true,
    "id": "mVvGUziLr-Dv",
    "jupyter": {
     "outputs_hidden": true
    }
   },
   "outputs": [],
   "source": [
    "# Your code here"
   ]
  },
  {
   "cell_type": "markdown",
   "metadata": {
    "id": "jjJJYMLcr-Dv"
   },
   "source": [
    "## Часть 6 (бонус). Метод Гаусса или обратные матрицы?"
   ]
  },
  {
   "cell_type": "markdown",
   "metadata": {
    "id": "Pu8CLGhmr-Dw"
   },
   "source": [
    "**Задание 6.1 [1.5 балла]** Пусть нам дано матричное уравнение $Ax = B$, где $A$ – матрица размера $n\\times n$, а $B$ – матрица размера $n\\times m$ (отметим, что это уравнение можно интерпретировать как $m$ систем с векторными правыми частями и однаковыми левыми). Вообще говоря, методов решения таких уравнений очень много, но мы пока рассмотрим два из них, с которыми вы уже хорошо знакомы.\n",
    "1. Метод Гаусса;\n",
    "2. Умножение на обратную матрицу: $x = A^{-1}B$.\n",
    "\n",
    "В этом задании вы попробуете ответить на вопрос о том, какой из этих методов эффективнее. Проведите два эксперимента:\n",
    "- сравните скорости решения системы при фиксированном `m = 10` и `n`, изменяющемся в пределах от 10 до 1000, например, для `n=10, 50, 100, 200, 500, 1000` (рост числа неизвестных при фиксированном количестве правых частей);\n",
    "- сравните скорости решения системы при фиксированном `n = 100` и `m`, меняющемся от 10 до 10000, например, для `m = 10, 100, 500, 1000, 2000, 5000, 10000` (рост числа правых частей при фиксированном числе неизвестных).\n",
    "\n",
    "При проведении экспериментов не возбраняется использовать циклы `for`.\n",
    "\n",
    "Эксперименты проведите на случайных матрицах, созданных с помощью функции `numpy.random.rand`. Постройте графики времени выполнения функции от размерности (лучше в логарифмическом масштабе). Сделайте выводы (в письменном виде!) о том, какой из методов оказывается лучше в каких обстоятельствах.\n",
    "\n",
    "Чтобы всё это не казалось вам чёрной магией, найдите число операций (суммарно сложения, умножения и деления), необходимых для решения системы каждым из методов. Обратите внимания на члены суммарной степени 3 (суммарной по $m$ и $n$; члены меньшего порядка можете даже не считать). Постарайтесь объяснить полученные ранее результаты."
   ]
  },
  {
   "cell_type": "code",
   "execution_count": null,
   "metadata": {
    "collapsed": true,
    "id": "MxNqxkTbr-Dw",
    "jupyter": {
     "outputs_hidden": true
    }
   },
   "outputs": [],
   "source": [
    "# Your code here"
   ]
  }
 ],
 "metadata": {
  "colab": {
   "collapsed_sections": [
    "jjJJYMLcr-Dv"
   ],
   "provenance": []
  },
  "kernelspec": {
   "display_name": "Python 3 (ipykernel)",
   "language": "python",
   "name": "python3"
  },
  "language_info": {
   "codemirror_mode": {
    "name": "ipython",
    "version": 3
   },
   "file_extension": ".py",
   "mimetype": "text/x-python",
   "name": "python",
   "nbconvert_exporter": "python",
   "pygments_lexer": "ipython3",
   "version": "3.9.13"
  }
 },
 "nbformat": 4,
 "nbformat_minor": 4
}
